{
 "cells": [
  {
   "cell_type": "markdown",
   "metadata": {},
   "source": [
    "# Multi-layer perceptron \n",
    "\n",
    "In questo tutorial impareremo ad implementare un semplice multi layer perceptron per eseguire lo xor (logico) utilizzando la libreria Tensorflow, in seguito mostreremo come è possibile implementare lo stesso codice in maniera piu veloce in Keras.\n",
    "\n",
    "<img style=\"float: left;\" src=\"images/mlp.png\">"
   ]
  },
  {
   "cell_type": "markdown",
   "metadata": {},
   "source": [
    "## Tensorflow"
   ]
  },
  {
   "cell_type": "markdown",
   "metadata": {},
   "source": [
    "Per implementare reti neurali in Tensorflow bisogna capire attentanmente il concetto di grafo computazionale:\n",
    "\n",
    "<img style=\"float: center;\" src=\"images/tensors_flowing.gif\">"
   ]
  },
  {
   "cell_type": "markdown",
   "metadata": {},
   "source": [
    "Come prima cosa definiamo le variabili e i placeholders del grafo computazionale:"
   ]
  },
  {
   "cell_type": "code",
   "execution_count": 1,
   "metadata": {
    "collapsed": true
   },
   "outputs": [],
   "source": [
    "import tensorflow as tf\n",
    "\n",
    "x = tf.placeholder(\"float\", [None, 2])\n",
    "y = tf.placeholder(\"float\", [None, 1])\n",
    "\n",
    "\n",
    "w1 = tf.Variable(tf.random_normal([2, 4]))\n",
    "b1 = tf.Variable(tf.random_normal([4]))\n",
    "w2 = tf.Variable(tf.random_normal([4, 1]))\n",
    "b2 = tf.Variable(tf.random_normal([1]))"
   ]
  },
  {
   "cell_type": "markdown",
   "metadata": {},
   "source": [
    "Ora invece definiamo le operazioni del forward pass:"
   ]
  },
  {
   "cell_type": "code",
   "execution_count": 2,
   "metadata": {
    "collapsed": false
   },
   "outputs": [],
   "source": [
    "# Hidden Layer\n",
    "h1 = tf.add(tf.matmul(x, w1), b1)\n",
    "h1 = tf.sigmoid(h1)\n",
    "\n",
    "# Output Layer\n",
    "\n",
    "out = tf.add(tf.matmul(h1, w2), b2)\n",
    "out = tf.sigmoid(out)"
   ]
  },
  {
   "cell_type": "code",
   "execution_count": 3,
   "metadata": {
    "collapsed": false
   },
   "outputs": [],
   "source": [
    "cross_entropy = lambda p, y: -tf.reduce_sum(y * tf.log(p))\n",
    "cost = tf.reduce_mean(cross_entropy(out, y))\n",
    "\n",
    "optimizer = tf.train.AdamOptimizer(learning_rate=0.001).minimize(cost)"
   ]
  },
  {
   "cell_type": "code",
   "execution_count": 4,
   "metadata": {
    "collapsed": true
   },
   "outputs": [],
   "source": [
    "init = tf.initialize_all_variables()"
   ]
  },
  {
   "cell_type": "code",
   "execution_count": 5,
   "metadata": {
    "collapsed": false
   },
   "outputs": [
    {
     "name": "stdout",
     "output_type": "stream",
     "text": [
      "Epoch: 0001 cost= 0.081617817\n",
      "Epoch: 1001 cost= 0.005487163\n",
      "Epoch: 2001 cost= 0.001740950\n",
      "Epoch: 3001 cost= 0.000779804\n",
      "Epoch: 4001 cost= 0.000401365\n",
      "Epoch: 5001 cost= 0.000221505\n",
      "Epoch: 6001 cost= 0.000126843\n",
      "Epoch: 7001 cost= 0.000074269\n",
      "Epoch: 8001 cost= 0.000044108\n",
      "Epoch: 9001 cost= 0.000026465\n",
      "Optimization Finished!\n",
      "Accuracy: 1.0\n"
     ]
    }
   ],
   "source": [
    "import numpy as np\n",
    "\n",
    "X_train = np.array([[0,1],\n",
    "                   [1,0],\n",
    "                   [1,1],\n",
    "                   [0,0]])\n",
    "\n",
    "y_train = np.array([[0],\n",
    "                    [0],\n",
    "                    [1],\n",
    "                    [1]])\n",
    "\n",
    "# Launch the graph\n",
    "with tf.Session() as sess:\n",
    "    sess.run(init)\n",
    "\n",
    "    # Training cycle\n",
    "    for epoch in range(10000):\n",
    "            # Run optimization op (backprop) and cost op (to get loss value)\n",
    "            _, c = sess.run([optimizer, cost], feed_dict={x: X_train,\n",
    "                                                          y: y_train})\n",
    "        # Display logs per epoch step\n",
    "            if epoch % 1000 == 0:\n",
    "                print \"Epoch:\", '%04d' % (epoch+1), \"cost=\", \\\n",
    "                    \"{:.9f}\".format(c)\n",
    "    print \"Optimization Finished!\"\n",
    "\n",
    "    # Test model\n",
    "    correct_prediction = tf.equal(tf.argmax(out, 1), tf.argmax(y, 1))\n",
    "    # Calculate accuracy\n",
    "    accuracy = tf.reduce_mean(tf.cast(correct_prediction, \"float\"))\n",
    "    print \"Accuracy:\", accuracy.eval({x: X_train, y: y_train})"
   ]
  },
  {
   "cell_type": "markdown",
   "metadata": {
    "collapsed": true
   },
   "source": [
    "## Keras\n",
    "\n",
    "Il multi layer perceptrion (MLP) rappresentato in figura può essere definito in Keras in poche linee di codice."
   ]
  },
  {
   "cell_type": "code",
   "execution_count": 6,
   "metadata": {
    "collapsed": false
   },
   "outputs": [
    {
     "name": "stdout",
     "output_type": "stream",
     "text": [
      "____________________________________________________________________________________________________\n",
      "Layer (type)                     Output Shape          Param #     Connected to                     \n",
      "====================================================================================================\n",
      "dense_1 (Dense)                  (None, 4)             12          dense_input_1[0][0]              \n",
      "____________________________________________________________________________________________________\n",
      "dense_2 (Dense)                  (None, 1)             5           dense_1[0][0]                    \n",
      "====================================================================================================\n",
      "Total params: 17\n",
      "____________________________________________________________________________________________________\n"
     ]
    },
    {
     "name": "stderr",
     "output_type": "stream",
     "text": [
      "Using TensorFlow backend.\n"
     ]
    }
   ],
   "source": [
    "import numpy as np\n",
    "np.random.seed(1337)\n",
    "\n",
    "from keras.models import Sequential\n",
    "from keras.layers import Dense\n",
    "\n",
    "model = Sequential()\n",
    "model.add(Dense(4, activation='sigmoid', input_shape=(2,)))\n",
    "model.add(Dense(1, activation='sigmoid'))\n",
    "\n",
    "model.summary()"
   ]
  },
  {
   "cell_type": "markdown",
   "metadata": {},
   "source": [
    "compilare il modello:\n",
    "\n",
    "\n",
    " - Costruzione del grafo di computazione\n",
    " - Inizializzazione dei pesi (W<sub>1</sub>, W<sub>2</sub>)\n",
    " - Definizione della loss (binary_crossentropy)\n",
    " - Definizione dell'optimizer (Stocastic Gradient Descend)\n",
    " - Definizione delle metriche da monitorare durante il training (default loss)"
   ]
  },
  {
   "cell_type": "code",
   "execution_count": 7,
   "metadata": {
    "collapsed": false
   },
   "outputs": [],
   "source": [
    "from keras.optimizers import Adam\n",
    "model.compile(loss='binary_crossentropy', optimizer=Adam(lr=0.001), metrics=['accuracy'])"
   ]
  },
  {
   "cell_type": "markdown",
   "metadata": {},
   "source": [
    "I pesi W<sub>1</sub>, W<sub>2</sub> sono inizializzati a random. Quindi l'output del nostro modello sarà casuale."
   ]
  },
  {
   "cell_type": "code",
   "execution_count": 8,
   "metadata": {
    "collapsed": false
   },
   "outputs": [
    {
     "data": {
      "text/plain": [
       "array([[ 0.74935615],\n",
       "       [ 0.70638096],\n",
       "       [ 0.74604905],\n",
       "       [ 0.70316994]], dtype=float32)"
      ]
     },
     "execution_count": 8,
     "metadata": {},
     "output_type": "execute_result"
    }
   ],
   "source": [
    "X_test = np.array([[0,1],\n",
    "                   [1,0],\n",
    "                   [1,1],\n",
    "                   [0,0]])\n",
    "\n",
    "pred = model.predict(X_test, verbose=False)\n",
    "\n",
    "pred"
   ]
  },
  {
   "cell_type": "markdown",
   "metadata": {},
   "source": [
    "Per addestrare il modello dichiariamo (carichiamo) il nostro training set:\n"
   ]
  },
  {
   "cell_type": "code",
   "execution_count": 9,
   "metadata": {
    "collapsed": true
   },
   "outputs": [],
   "source": [
    "X_train = np.array([[0,1],\n",
    "                   [1,0],\n",
    "                   [1,1],\n",
    "                   [0,0]])\n",
    "\n",
    "y_train = np.array([[0],\n",
    "                    [0],\n",
    "                    [1],\n",
    "                    [1]])"
   ]
  },
  {
   "cell_type": "markdown",
   "metadata": {},
   "source": [
    "Utilizzando la funzione 'fit' è possibile addestrare il modello."
   ]
  },
  {
   "cell_type": "code",
   "execution_count": 12,
   "metadata": {
    "collapsed": false
   },
   "outputs": [],
   "source": [
    "history = model.fit(X_train, y_train, nb_epoch=10000, verbose=False, )\n"
   ]
  },
  {
   "cell_type": "code",
   "execution_count": 13,
   "metadata": {
    "collapsed": false,
    "scrolled": true
   },
   "outputs": [
    {
     "data": {
      "text/plain": [
       "<matplotlib.text.Text at 0x10da00e50>"
      ]
     },
     "execution_count": 13,
     "metadata": {},
     "output_type": "execute_result"
    },
    {
     "data": {
      "image/png": "[encoded data removed]",
      "text/plain": [
       "<matplotlib.figure.Figure at 0x10da30490>"
      ]
     },
     "metadata": {},
     "output_type": "display_data"
    }
   ],
   "source": [
    "%matplotlib inline\n",
    "import matplotlib.pyplot as plt\n",
    "plt.plot(history.history['loss'])\n",
    "plt.ylabel('loss')\n",
    "plt.xlabel('epoch')"
   ]
  },
  {
   "cell_type": "code",
   "execution_count": 14,
   "metadata": {
    "collapsed": false
   },
   "outputs": [
    {
     "data": {
      "text/plain": [
       "array([[ 0.00142648],\n",
       "       [ 0.0013868 ],\n",
       "       [ 0.99797434],\n",
       "       [ 0.99820304]], dtype=float32)"
      ]
     },
     "execution_count": 14,
     "metadata": {},
     "output_type": "execute_result"
    }
   ],
   "source": [
    "X_test = np.array([[0,1],\n",
    "                   [1,0],\n",
    "                   [1,1],\n",
    "                   [0,0]])\n",
    "\n",
    "pred = model.predict(X_test, verbose=False)\n",
    "\n",
    "pred"
   ]
  },
  {
   "cell_type": "markdown",
   "metadata": {},
   "source": [
    "# Le API funzionali"
   ]
  },
  {
   "cell_type": "code",
   "execution_count": 15,
   "metadata": {
    "collapsed": false
   },
   "outputs": [],
   "source": [
    "from keras.models import Model\n",
    "from keras.layers import Dense, Input, merge\n",
    "\n",
    "x  = Input(shape=(2,))\n",
    "h1 = Dense(4, activation='relu')(x)\n",
    "y = Dense(1, activation='sigmoid')(h1)\n",
    "model = Model(input=[x], output=[y])"
   ]
  },
  {
   "cell_type": "markdown",
   "metadata": {},
   "source": [
    "A differenza del modello sequenziale la API funzionale di Keras permette di inizializzare i vari layer in maniera indipendente. Questo permette di creare modelli piu complessi, come ad esempio modelli con input o output multipli."
   ]
  },
  {
   "cell_type": "code",
   "execution_count": 16,
   "metadata": {
    "collapsed": true
   },
   "outputs": [],
   "source": [
    "model.compile(loss='binary_crossentropy', optimizer=Adam(lr=0.001), metrics=['accuracy'])"
   ]
  },
  {
   "cell_type": "code",
   "execution_count": 17,
   "metadata": {
    "collapsed": true
   },
   "outputs": [],
   "source": [
    "history = model.fit(X_train, y_train, nb_epoch=10000, verbose=False)"
   ]
  },
  {
   "cell_type": "code",
   "execution_count": 18,
   "metadata": {
    "collapsed": false
   },
   "outputs": [
    {
     "data": {
      "text/plain": [
       "<matplotlib.text.Text at 0x10e52a390>"
      ]
     },
     "execution_count": 18,
     "metadata": {},
     "output_type": "execute_result"
    },
    {
     "data": {
      "image/png": "[encoded data removed]",
      "text/plain": [
       "<matplotlib.figure.Figure at 0x10e2597d0>"
      ]
     },
     "metadata": {},
     "output_type": "display_data"
    }
   ],
   "source": [
    "%matplotlib inline\n",
    "import matplotlib.pyplot as plt\n",
    "plt.plot(history.history['loss'])\n",
    "plt.ylabel('loss')\n",
    "plt.xlabel('epoch')"
   ]
  },
  {
   "cell_type": "code",
   "execution_count": 19,
   "metadata": {
    "collapsed": false
   },
   "outputs": [
    {
     "data": {
      "text/plain": [
       "array([[ 0.00169835],\n",
       "       [ 0.00169906],\n",
       "       [ 0.99830449],\n",
       "       [ 0.9981817 ]], dtype=float32)"
      ]
     },
     "execution_count": 19,
     "metadata": {},
     "output_type": "execute_result"
    }
   ],
   "source": [
    "X_test = np.array([[0,1],\n",
    "                   [1,0],\n",
    "                   [1,1],\n",
    "                   [0,0]])\n",
    "\n",
    "pred = model.predict(X_test, verbose=False)\n",
    "\n",
    "pred"
   ]
  },
  {
   "cell_type": "code",
   "execution_count": null,
   "metadata": {
    "collapsed": true
   },
   "outputs": [],
   "source": []
  }
 ],
 "metadata": {
  "kernelspec": {
   "display_name": "Python 2",
   "language": "python",
   "name": "python2"
  },
  "language_info": {
   "codemirror_mode": {
    "name": "ipython",
    "version": 2
   },
   "file_extension": ".py",
   "mimetype": "text/x-python",
   "name": "python",
   "nbconvert_exporter": "python",
   "pygments_lexer": "ipython2",
   "version": "2.7.12"
  }
 },
 "nbformat": 4,
 "nbformat_minor": 0
}
